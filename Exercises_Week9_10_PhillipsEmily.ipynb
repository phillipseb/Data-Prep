{
 "cells": [
  {
   "cell_type": "markdown",
   "id": "bf0c629b",
   "metadata": {},
   "source": [
    "# Data Wrangling with Python: Activity 9, page 294"
   ]
  },
  {
   "cell_type": "markdown",
   "id": "67f9034f",
   "metadata": {},
   "source": [
    "### Import the necessary libraries, including regex and beautifulsoup"
   ]
  },
  {
   "cell_type": "code",
   "execution_count": 1,
   "id": "218f1f06",
   "metadata": {},
   "outputs": [],
   "source": [
    "import urllib.request, urllib.parse, urllib.error\n",
    "import requests\n",
    "from bs4 import BeautifulSoup\n",
    "import ssl\n",
    "import re"
   ]
  },
  {
   "cell_type": "markdown",
   "id": "e84f3981",
   "metadata": {},
   "source": [
    "### Check the SSL certificate"
   ]
  },
  {
   "cell_type": "code",
   "execution_count": 2,
   "id": "b6551838",
   "metadata": {},
   "outputs": [],
   "source": [
    "# Ignore SSL certificate errors\n",
    "ctx = ssl.create_default_context()\n",
    "ctx.check_hostname = False\n",
    "ctx.verify_mode = ssl.CERT_NONE"
   ]
  },
  {
   "cell_type": "markdown",
   "id": "174e3618",
   "metadata": {},
   "source": [
    "### Read the HTML from the URL"
   ]
  },
  {
   "cell_type": "code",
   "execution_count": 3,
   "id": "a8874ffd",
   "metadata": {},
   "outputs": [],
   "source": [
    "# Read the HTML from the URL and pass on to BeautifulSoup\n",
    "url = 'https://www.gutenberg.org/browse/scores/top'\n",
    "#send a GET request to the url --> returns a Response Object\n",
    "response = requests.get(url)"
   ]
  },
  {
   "cell_type": "markdown",
   "id": "e05bb6e0",
   "metadata": {},
   "source": [
    "### Write a small function to check the status of the web request"
   ]
  },
  {
   "cell_type": "code",
   "execution_count": 4,
   "id": "90bba1b9",
   "metadata": {},
   "outputs": [],
   "source": [
    "def check_status(resp):\n",
    "    #if response status is 200, then connection was success\n",
    "    if resp.status_code == 200:\n",
    "        print('Status code is 200. Connection successful!')\n",
    "        return 1\n",
    "    #all status codes besides 200 shows issues\n",
    "    else:\n",
    "        print('Connection was not successful')\n",
    "        return -1"
   ]
  },
  {
   "cell_type": "markdown",
   "id": "cd0054ec",
   "metadata": {},
   "source": [
    "### Decode the response and pass this on to BeautifulSoup for HTML parsing"
   ]
  },
  {
   "cell_type": "code",
   "execution_count": 5,
   "id": "15f9c96a",
   "metadata": {},
   "outputs": [
    {
     "name": "stdout",
     "output_type": "stream",
     "text": [
      "Status code is 200. Connection successful!\n"
     ]
    },
    {
     "data": {
      "text/plain": [
       "1"
      ]
     },
     "execution_count": 5,
     "metadata": {},
     "output_type": "execute_result"
    }
   ],
   "source": [
    "#running check_status function on response variable to check status code\n",
    "check_status(response)"
   ]
  },
  {
   "cell_type": "code",
   "execution_count": 6,
   "id": "9416bc21",
   "metadata": {},
   "outputs": [],
   "source": [
    "#getting contents of the response for BeautifulSoup\n",
    "content = response.content.decode(response.encoding)\n",
    "#creating BeautifulSoup object \n",
    "soup = BeautifulSoup(content,'html.parser')"
   ]
  },
  {
   "cell_type": "markdown",
   "id": "02d4599b",
   "metadata": {},
   "source": [
    "### Find all the href tags and store them in the list of links. Check what the list looks like - print the first 30 elements."
   ]
  },
  {
   "cell_type": "code",
   "execution_count": 7,
   "id": "192f01ba",
   "metadata": {},
   "outputs": [],
   "source": [
    "#instantiate list of links\n",
    "links_with_text = []\n",
    "\n",
    "#for loop to find all href tags in HTML\n",
    "for a in soup.find_all('a',href=True):\n",
    "    #href tag falls under 'a'\n",
    "    if a.text:\n",
    "        links_with_text.append(a['href'])"
   ]
  },
  {
   "cell_type": "code",
   "execution_count": 8,
   "id": "5b0ecd0c",
   "metadata": {},
   "outputs": [
    {
     "data": {
      "text/plain": [
       "['/',\n",
       " '/about/',\n",
       " '/about/',\n",
       " '/policy/collection_development.html',\n",
       " '/about/contact_information.html',\n",
       " '/about/background/',\n",
       " '/policy/permission.html',\n",
       " '/policy/privacy_policy.html',\n",
       " '/policy/terms_of_use.html',\n",
       " '/ebooks/',\n",
       " '/ebooks/',\n",
       " '/ebooks/bookshelf/',\n",
       " '/browse/scores/top',\n",
       " '/ebooks/offline_catalogs.html',\n",
       " '/help/',\n",
       " '/help/',\n",
       " '/help/copyright.html',\n",
       " '/help/errata.html',\n",
       " '/help/file_formats.html',\n",
       " '/help/faq.html',\n",
       " '/policy/',\n",
       " '/help/public_domain_ebook_submission.html',\n",
       " '/help/submitting_your_own_work.html',\n",
       " '/help/mobile.html',\n",
       " '/attic/',\n",
       " '/donate/',\n",
       " '/donate/',\n",
       " '#books-last1',\n",
       " '#authors-last1',\n",
       " '#books-last7']"
      ]
     },
     "execution_count": 8,
     "metadata": {},
     "output_type": "execute_result"
    }
   ],
   "source": [
    "#print first 30 elements\n",
    "links_with_text[:30]"
   ]
  },
  {
   "cell_type": "markdown",
   "id": "97fbaf9f",
   "metadata": {},
   "source": [
    "### Use a regular expresson to find the numeric digits in these links. File numbers for the top 100 eBooks\n",
    "\n",
    "- Use regex to find the numeric digits in the link href string\n",
    "- Use the findall method"
   ]
  },
  {
   "cell_type": "code",
   "execution_count": 9,
   "id": "4812a9d6",
   "metadata": {},
   "outputs": [],
   "source": [
    "#list to hold file numbers\n",
    "file_nums = []"
   ]
  },
  {
   "cell_type": "code",
   "execution_count": 10,
   "id": "9021a0f8",
   "metadata": {},
   "outputs": [],
   "source": [
    "#numbers 19 to 118 in the link list have top 100 ebooks\n",
    "\n",
    "#loop over number range\n",
    "for i in range(19,119):\n",
    "    #access certain link\n",
    "    link = links_with_text[i]\n",
    "    #strip of punctuation and white space\n",
    "    link = link.strip()\n",
    "    #regular expression for finding numeric digits\n",
    "    dig = re.findall('[0-9]+',link)\n",
    "    #if we actually find a digit, add to list and cast to int\n",
    "    if len(dig)==1:\n",
    "        file_nums.append(int(dig[0]))"
   ]
  },
  {
   "cell_type": "code",
   "execution_count": 11,
   "id": "ee23798e",
   "metadata": {},
   "outputs": [
    {
     "name": "stdout",
     "output_type": "stream",
     "text": [
      "[1, 1, 7, 7, 30, 30, 1342, 84, 46, 11, 2701, 4980, 25344, 66723, 1661, 63256, 174, 345, 32992, 66720, 66717, 98, 1232, 32449, 2542, 1080, 64317, 1952, 43, 205, 1260, 5200, 2148, 844, 4300, 8492, 2554, 66721, 2600, 219, 514, 2591, 40754, 6130, 76, 66718, 25942, 66714, 1184, 1400, 16, 5740, 30254, 2500, 45, 27827, 996, 74, 66724, 58585, 120, 66716, 28054, 41, 2814, 135, 1998, 7370, 408, 3207, 3600, 55, 2852, 66713, 158, 43453, 36, 16328, 1727, 1497, 10007, 4363, 23, 9551, 1228, 1250, 1399, 730, 829, 215, 768, 66712]\n"
     ]
    }
   ],
   "source": [
    "#printing the file numbers\n",
    "print(file_nums)"
   ]
  },
  {
   "cell_type": "markdown",
   "id": "d5c5e6f7",
   "metadata": {},
   "source": [
    "### What does the soup object's text look like? Use the .text method and print only the first 2,000 characters"
   ]
  },
  {
   "cell_type": "code",
   "execution_count": 12,
   "id": "994b3423",
   "metadata": {},
   "outputs": [
    {
     "name": "stdout",
     "output_type": "stream",
     "text": [
      "\n",
      "\n",
      "\n",
      "\n",
      "Top 100 | Project Gutenberg\n",
      "\n",
      "\n",
      "\n",
      "\n",
      "\n",
      "\n",
      "\n",
      "\n",
      "\n",
      "\n",
      "\n",
      "\n",
      "\n",
      "\n",
      "\n",
      "\n",
      "\n",
      "\n",
      "\n",
      "\n",
      "\n",
      "\n",
      "\n",
      "\n",
      "\n",
      "\n",
      "\n",
      "Menu▾\n",
      "\n",
      "\n",
      "\n",
      "About\n",
      "          ▾\n",
      "\n",
      "▾\n",
      "\n",
      "\n",
      "About Project Gutenberg\n",
      "Collection Development\n",
      "Contact Us\n",
      "History & Philosophy\n",
      "Permissions & License\n",
      "Privacy Policy\n",
      "Terms of Use\n",
      "\n",
      "\n",
      "\n",
      "Search and Browse\n",
      "      \t  ▾\n",
      "\n",
      "▾\n",
      "\n",
      "\n",
      "Book Search\n",
      "Bookshelves\n",
      "Frequently Downloaded\n",
      "Offline Catalogs\n",
      "\n",
      "\n",
      "\n",
      "Help\n",
      "          ▾\n",
      "\n",
      "▾\n",
      "\n",
      "\n",
      "All help topics →\n",
      "Copyright Procedures\n",
      "Errata, Fixes and Bug Reports\n",
      "File Formats\n",
      "Frequently Asked Questions\n",
      "Policies →\n",
      "Public Domain eBook Submission\n",
      "Submitting Your Own Work\n",
      "Tablets, Phones and eReaders\n",
      "The Attic →\n",
      "\n",
      "\n",
      "Donate\n",
      "\n",
      "\n",
      "\n",
      "\n",
      "\n",
      "\n",
      "\n",
      "\n",
      "\n",
      "\n",
      "Donation\n",
      "\n",
      "\n",
      "\n",
      "\n",
      "\n",
      "\n",
      "\n",
      "Frequently Viewed or Downloaded\n",
      "These listings are based on the number of times each eBook gets downloaded.\n",
      "      Multiple downloads from the same Internet address on the same day count as one download, and addresses that download more than 100 eBooks in a day are considered robots and are not counted.\n",
      "\n",
      "Downloaded Books\n",
      "2021-11-13138492\n",
      "last 7 days1223977\n",
      "last 30 days5037139\n",
      "\n",
      "\n",
      "\n",
      "Top 100 EBooks yesterday\n",
      "Top 100 Authors yesterday\n",
      "Top 100 EBooks last 7 days\n",
      "Top 100 Authors last 7 days\n",
      "Top 100 EBooks last 30 days\n",
      "Top 100 Authors last 30 days\n",
      "\n",
      "\n",
      "Top 100 EBooks yesterday\n",
      "\n",
      "Pride and Prejudice by Jane Austen (1338)\n",
      "Frankenstein; Or, The Modern Prometheus by Mary Wollstonecraft Shelley (1249)\n",
      "A Christmas Carol in Prose; Being a Ghost Story of Christmas by Charles Dickens (760)\n",
      "Alice's Adventures in Wonderland by Lewis Carroll (684)\n",
      "Moby Dick; Or, The Whale by Herman Melville (637)\n",
      "Old Granny Fox by Thornton W.  Burgess (622)\n",
      "The Scarlet Letter by Nathaniel Hawthorne (586)\n",
      "Stop, You're Killing Me! by Stephen Marlowe (540)\n",
      "The Adventures of Sherlock Holmes by Arthur Conan Doyle (537)\n",
      "The American Diary of a Japanese Girl by Yoné Noguchi (528)\n",
      "The Picture of Dorian Gray by Oscar Wilde (515)\n",
      "Dracula by Bram Stoker (514)\n",
      "The Youngest Girl in the School by Evelyn Sharp (513)\n",
      "In Kentucky with Daniel Boone by John Thomas McIntyre (450)\n",
      "A Life Unveiled by Anonymous (444)\n",
      "A Tale of Two Cities by Char\n"
     ]
    }
   ],
   "source": [
    "#using soup.text method\n",
    "print(soup.text[:2000])"
   ]
  },
  {
   "cell_type": "markdown",
   "id": "cddcceee",
   "metadata": {},
   "source": [
    "### Search in the extracted text (using regex) from the soup object to find the names of the top 100 eBooks"
   ]
  },
  {
   "cell_type": "code",
   "execution_count": 13,
   "id": "3f1ec851",
   "metadata": {},
   "outputs": [],
   "source": [
    "#creating temporary list of EBook names\n",
    "book_names_temp = []"
   ]
  },
  {
   "cell_type": "code",
   "execution_count": 14,
   "id": "ac5a9718",
   "metadata": {},
   "outputs": [],
   "source": [
    "#point starting index to \"Top 100 Ebooks yesterday\" text\n",
    "#split lines will split each line of text\n",
    "#find index of title\n",
    "start = soup.text.splitlines().index('Top 100 EBooks yesterday')"
   ]
  },
  {
   "cell_type": "code",
   "execution_count": 15,
   "id": "9466a9ab",
   "metadata": {},
   "outputs": [],
   "source": [
    "#loop 1-100\n",
    "#add the strings of the next 100 lines to this temporary list\n",
    "for i in range(100):\n",
    "    #append line that starts from index of title and skips over spaces (+10)\n",
    "    #book_names_temp.append(soup.text.splitlines()[start+2+i])\n",
    "    book_names_temp.append(soup.text.splitlines()[start+10+i])"
   ]
  },
  {
   "cell_type": "code",
   "execution_count": 16,
   "id": "a8f14b46",
   "metadata": {},
   "outputs": [
    {
     "name": "stdout",
     "output_type": "stream",
     "text": [
      "['Pride and Prejudice by Jane Austen (1338)', 'Frankenstein; Or, The Modern Prometheus by Mary Wollstonecraft Shelley (1249)', 'A Christmas Carol in Prose; Being a Ghost Story of Christmas by Charles Dickens (760)', \"Alice's Adventures in Wonderland by Lewis Carroll (684)\", 'Moby Dick; Or, The Whale by Herman Melville (637)', 'Old Granny Fox by Thornton W.  Burgess (622)', 'The Scarlet Letter by Nathaniel Hawthorne (586)', \"Stop, You're Killing Me! by Stephen Marlowe (540)\", 'The Adventures of Sherlock Holmes by Arthur Conan Doyle (537)', 'The American Diary of a Japanese Girl by Yoné Noguchi (528)', 'The Picture of Dorian Gray by Oscar Wilde (515)', 'Dracula by Bram Stoker (514)', 'The Youngest Girl in the School by Evelyn Sharp (513)', 'In Kentucky with Daniel Boone by John Thomas McIntyre (450)', 'A Life Unveiled by Anonymous (444)', 'A Tale of Two Cities by Charles Dickens (440)', 'The Prince by Niccolò Machiavelli (410)', 'Japanese Girls and Women by Alice Mabel Bacon (379)', \"A Doll's House : a play by Henrik Ibsen (378)\", 'A Modest Proposal by Jonathan Swift (375)', 'The Great Gatsby by F. Scott  Fitzgerald (375)', 'The Yellow Wallpaper by Charlotte Perkins Gilman (374)', 'The Strange Case of Dr. Jekyll and Mr. Hyde by Robert Louis Stevenson (368)', 'Walden, and On The Duty Of Civil Disobedience by Henry David Thoreau (359)', 'Jane Eyre: An Autobiography by Charlotte Brontë (344)', 'Metamorphosis by Franz Kafka (340)', 'The Works of Edgar Allan Poe — Volume 2 by Edgar Allan Poe (340)', 'The Importance of Being Earnest: A Trivial Comedy for Serious People by Oscar Wilde (331)', 'Ulysses by James Joyce (328)', 'The King in Yellow by Robert W.  Chambers (320)', 'Crime and Punishment by Fyodor Dostoyevsky (318)', 'At Odds with the Regent: A Story of the Cellamare Conspiracy by Betts and Stevenson (314)', 'War and Peace by graf Leo Tolstoy (313)', 'Heart of Darkness by Joseph Conrad (312)', 'Little Women by Louisa May Alcott (311)', \"Grimms' Fairy Tales by Jacob Grimm and Wilhelm Grimm (305)\", 'The Nursery, March 1881, Vol. XXIX by Various (299)', 'The Iliad by Homer (286)', 'Adventures of Huckleberry Finn by Mark Twain (284)', \"A Sharper's Downfall by Nicholas  Carter (281)\", 'The Translations of Beowulf: A Critical Bibliography by Chauncey Brewster Tinker (278)', 'The Cosmic Snare by Stephen Marlowe (274)', 'The Count of Monte Cristo, Illustrated by Alexandre Dumas (270)', 'Great Expectations by Charles Dickens (268)', 'Peter Pan by J. M.  Barrie (253)', 'Tractatus Logico-Philosophicus by Ludwig Wittgenstein (252)', 'The Romance of Lust: A classic Victorian erotic novel by Anonymous (235)', 'Siddhartha by Hermann Hesse (234)', 'Anne of Green Gables by L. M.  Montgomery (231)', 'The Kama Sutra of Vatsyayana by Vatsyayana (229)', 'Don Quixote by Miguel de Cervantes Saavedra (229)', 'The Adventures of Tom Sawyer, Complete by Mark Twain (228)', 'The Four-Finger Glove by Nicholas  Carter (227)', 'The Prophet by Kahlil Gibran (227)', 'Treasure Island by Robert Louis Stevenson (222)', 'The supernatural in early Spanish literature : studied in the works of the court of Alfonso X, el Sa (222)', 'The Brothers Karamazov by Fyodor Dostoyevsky (218)', 'The Legend of Sleepy Hollow by Washington Irving (217)', 'Dubliners by James Joyce (211)', 'Les Misérables by Victor Hugo (211)', 'Thus Spake Zarathustra: A Book for All and None by Friedrich Wilhelm Nietzsche (207)', 'Second Treatise of Government by John Locke (204)', 'The Souls of Black Folk by W. E. B.  Du Bois (204)', 'Leviathan by Thomas Hobbes (202)', 'Essays of Michel de Montaigne — Complete by Michel de Montaigne (201)', 'The Wonderful Wizard of Oz by L. Frank  Baum (197)', 'The Hound of the Baskervilles by Arthur Conan Doyle (197)', 'Selling Point by Norman Arkawy (194)', 'Emma by Jane Austen (194)', 'A Pickle for the Knowing Ones by Timothy Dexter (193)', 'The War of the Worlds by H. G.  Wells (193)', 'Beowulf: An Anglo-Saxon Epic Poem (190)', 'The Odyssey by Homer (188)', 'The Republic by Plato (188)', 'Carmilla by Joseph Sheridan Le Fanu (186)', 'Beyond Good and Evil by Friedrich Wilhelm Nietzsche (182)', 'Narrative of the Life of Frederick Douglass, an American Slave by Frederick Douglass (179)', 'The Adventures of Sherlock Holmes by Arthur Conan Doyle (178)', 'On the Origin of Species By Means of Natural Selection by Charles Darwin (177)', 'Anthem by Ayn Rand (173)', 'Anna Karenina by graf Leo Tolstoy (169)', 'Oliver Twist by Charles Dickens (166)', \"Gulliver's Travels into Several Remote Nations of the World by Jonathan Swift (165)\", 'The Call of the Wild by Jack London (164)', 'Wuthering Heights by Emily Brontë (164)', 'Grammar-land: Grammar in Fun for the Children of Schoolroom-shire by M. L. Nesbitt (163)', 'A Study in Scarlet by Arthur Conan Doyle (162)', 'Korean—English Dictionary by Leon Kuperman (162)', 'David Copperfield by Charles Dickens (162)', 'More Minor Horrors by Sir A. E.  Shipley (161)', \"Uncle Tom's Cabin by Harriet Beecher Stowe (161)\", 'The Awakening, and Selected Short Stories by Kate Chopin (158)', 'The Jungle Book by Rudyard Kipling (157)', 'The Time Machine by H. G.  Wells (156)', 'Autobiography of Benjamin Franklin by Benjamin Franklin (145)', 'On Liberty by John Stuart Mill (145)', 'Historical Record of the Seventieth, or, The Surrey Regiment of Foot :  containing an account of the (142)', 'The Mysterious Affair at Styles by Agatha Christie (142)', 'Calculus Made Easy by Silvanus P.  Thompson (140)', 'The Confessions of St. Augustine by Bishop of Hippo Saint Augustine (139)']\n"
     ]
    }
   ],
   "source": [
    "print(book_names_temp)"
   ]
  },
  {
   "cell_type": "code",
   "execution_count": 17,
   "id": "ccd84fb5",
   "metadata": {},
   "outputs": [],
   "source": [
    "#use regex to extract only text from the name strings and append it to an empty list\n",
    "\n",
    "#empty list\n",
    "book_text = []\n",
    "\n",
    "#loop through 100 titles\n",
    "for i in range(100):\n",
    "    #finding indices \n",
    "    #attempts to match text to name strings\n",
    "    #use span function to return a tuple containing start and end positions of the matched expression\n",
    "    idx1,idx2 = re.match('^[a-zA-Z ]*',book_names_temp[i]).span()\n",
    "    #append only text into new list\n",
    "    book_text.append(book_names_temp[i][idx1:idx2])"
   ]
  },
  {
   "cell_type": "code",
   "execution_count": 18,
   "id": "05d81e95",
   "metadata": {},
   "outputs": [
    {
     "name": "stdout",
     "output_type": "stream",
     "text": [
      "Here are the names of the Top 100 EBooks!\n",
      "\n",
      "Pride and Prejudice by Jane Austen \n",
      "Frankenstein\n",
      "A Christmas Carol in Prose\n",
      "Alice\n",
      "Moby Dick\n",
      "Old Granny Fox by Thornton W\n",
      "The Scarlet Letter by Nathaniel Hawthorne \n",
      "Stop\n",
      "The Adventures of Sherlock Holmes by Arthur Conan Doyle \n",
      "The American Diary of a Japanese Girl by Yon\n",
      "The Picture of Dorian Gray by Oscar Wilde \n",
      "Dracula by Bram Stoker \n",
      "The Youngest Girl in the School by Evelyn Sharp \n",
      "In Kentucky with Daniel Boone by John Thomas McIntyre \n",
      "A Life Unveiled by Anonymous \n",
      "A Tale of Two Cities by Charles Dickens \n",
      "The Prince by Niccol\n",
      "Japanese Girls and Women by Alice Mabel Bacon \n",
      "A Doll\n",
      "A Modest Proposal by Jonathan Swift \n",
      "The Great Gatsby by F\n",
      "The Yellow Wallpaper by Charlotte Perkins Gilman \n",
      "The Strange Case of Dr\n",
      "Walden\n",
      "Jane Eyre\n",
      "Metamorphosis by Franz Kafka \n",
      "The Works of Edgar Allan Poe \n",
      "The Importance of Being Earnest\n",
      "Ulysses by James Joyce \n",
      "The King in Yellow by Robert W\n",
      "Crime and Punishment by Fyodor Dostoyevsky \n",
      "At Odds with the Regent\n",
      "War and Peace by graf Leo Tolstoy \n",
      "Heart of Darkness by Joseph Conrad \n",
      "Little Women by Louisa May Alcott \n",
      "Grimms\n",
      "The Nursery\n",
      "The Iliad by Homer \n",
      "Adventures of Huckleberry Finn by Mark Twain \n",
      "A Sharper\n",
      "The Translations of Beowulf\n",
      "The Cosmic Snare by Stephen Marlowe \n",
      "The Count of Monte Cristo\n",
      "Great Expectations by Charles Dickens \n",
      "Peter Pan by J\n",
      "Tractatus Logico\n",
      "The Romance of Lust\n",
      "Siddhartha by Hermann Hesse \n",
      "Anne of Green Gables by L\n",
      "The Kama Sutra of Vatsyayana by Vatsyayana \n",
      "Don Quixote by Miguel de Cervantes Saavedra \n",
      "The Adventures of Tom Sawyer\n",
      "The Four\n",
      "The Prophet by Kahlil Gibran \n",
      "Treasure Island by Robert Louis Stevenson \n",
      "The supernatural in early Spanish literature \n",
      "The Brothers Karamazov by Fyodor Dostoyevsky \n",
      "The Legend of Sleepy Hollow by Washington Irving \n",
      "Dubliners by James Joyce \n",
      "Les Mis\n",
      "Thus Spake Zarathustra\n",
      "Second Treatise of Government by John Locke \n",
      "The Souls of Black Folk by W\n",
      "Leviathan by Thomas Hobbes \n",
      "Essays of Michel de Montaigne \n",
      "The Wonderful Wizard of Oz by L\n",
      "The Hound of the Baskervilles by Arthur Conan Doyle \n",
      "Selling Point by Norman Arkawy \n",
      "Emma by Jane Austen \n",
      "A Pickle for the Knowing Ones by Timothy Dexter \n",
      "The War of the Worlds by H\n",
      "Beowulf\n",
      "The Odyssey by Homer \n",
      "The Republic by Plato \n",
      "Carmilla by Joseph Sheridan Le Fanu \n",
      "Beyond Good and Evil by Friedrich Wilhelm Nietzsche \n",
      "Narrative of the Life of Frederick Douglass\n",
      "The Adventures of Sherlock Holmes by Arthur Conan Doyle \n",
      "On the Origin of Species By Means of Natural Selection by Charles Darwin \n",
      "Anthem by Ayn Rand \n",
      "Anna Karenina by graf Leo Tolstoy \n",
      "Oliver Twist by Charles Dickens \n",
      "Gulliver\n",
      "The Call of the Wild by Jack London \n",
      "Wuthering Heights by Emily Bront\n",
      "Grammar\n",
      "A Study in Scarlet by Arthur Conan Doyle \n",
      "Korean\n",
      "David Copperfield by Charles Dickens \n",
      "More Minor Horrors by Sir A\n",
      "Uncle Tom\n",
      "The Awakening\n",
      "The Jungle Book by Rudyard Kipling \n",
      "The Time Machine by H\n",
      "Autobiography of Benjamin Franklin by Benjamin Franklin \n",
      "On Liberty by John Stuart Mill \n",
      "Historical Record of the Seventieth\n",
      "The Mysterious Affair at Styles by Agatha Christie \n",
      "Calculus Made Easy by Silvanus P\n",
      "The Confessions of St\n"
     ]
    }
   ],
   "source": [
    "#print list of book names\n",
    "print(\"Here are the names of the Top 100 EBooks!\\n\")\n",
    "for text in book_text:\n",
    "    print(text)"
   ]
  },
  {
   "cell_type": "markdown",
   "id": "f68de589",
   "metadata": {},
   "source": [
    "# Data Wrangling with Python: Activity 10, page 295\n",
    "\n",
    "Building Your Own Movie Database by Reading an API"
   ]
  },
  {
   "cell_type": "code",
   "execution_count": 19,
   "id": "3d07b227",
   "metadata": {},
   "outputs": [],
   "source": [
    "#import required libaries\n",
    "import urllib.request\n",
    "import urllib.parse\n",
    "import urllib.error\n",
    "import json\n",
    "import os"
   ]
  },
  {
   "cell_type": "markdown",
   "id": "2d0729b5",
   "metadata": {},
   "source": [
    "Load the secret API key from a JSON file stored in the same folder in a variable, by using json.loads"
   ]
  },
  {
   "cell_type": "code",
   "execution_count": 20,
   "id": "70f6a20b",
   "metadata": {},
   "outputs": [],
   "source": [
    "#converting text file to JSON\n",
    "filename = 'APIkeys.txt'\n",
    "#dictionary where the lines from text will be stored\n",
    "dict1 = {}\n",
    "#creating dictionary\n",
    "with open(filename) as fh:\n",
    "    for line in fh:\n",
    "        #read each line and trim of extra spaces, only gets words\n",
    "        command, description = line.strip().split(None,1)\n",
    "        dict1[command]=description.strip()\n",
    "        \n",
    "#create JSON file\n",
    "out_file = open(\"APIkeys.json\",\"w\")\n",
    "json.dump(dict1,out_file,indent=4,sort_keys=False)\n",
    "out_file.close()"
   ]
  },
  {
   "cell_type": "markdown",
   "id": "c1151f06",
   "metadata": {},
   "source": [
    "Open the APIkeys.json file"
   ]
  },
  {
   "cell_type": "code",
   "execution_count": 21,
   "id": "fd816b91",
   "metadata": {},
   "outputs": [],
   "source": [
    "#open the APIkeys.json file which holds api key\n",
    "with open('APIkeys.json') as f:\n",
    "    keys = json.load(f)\n",
    "    #retrieve API key to feed into URL\n",
    "    omdbkey = keys['OMDBapi']"
   ]
  },
  {
   "cell_type": "markdown",
   "id": "3c3f49a5",
   "metadata": {},
   "source": [
    "Assign the OMDB portal as a string to a variable"
   ]
  },
  {
   "cell_type": "code",
   "execution_count": 22,
   "id": "b0bfdb4a",
   "metadata": {},
   "outputs": [],
   "source": [
    "#assign omdb portal as a string to a variable\n",
    "call = 'http://www.omdbapi.com/?'"
   ]
  },
  {
   "cell_type": "markdown",
   "id": "cffe6f1a",
   "metadata": {},
   "source": [
    "Create a variable called apikey with the last portion of the URL"
   ]
  },
  {
   "cell_type": "code",
   "execution_count": 23,
   "id": "9158b3cd",
   "metadata": {},
   "outputs": [],
   "source": [
    "apikey = '&apikey=' + omdbkey"
   ]
  },
  {
   "cell_type": "code",
   "execution_count": 24,
   "id": "b8ff2afe",
   "metadata": {},
   "outputs": [],
   "source": [
    "#update call variable with apikey portion\n",
    "url_call = call +apikey"
   ]
  },
  {
   "cell_type": "code",
   "execution_count": 25,
   "id": "dc2cad11",
   "metadata": {},
   "outputs": [],
   "source": [
    "#make request to the url with the API key\n",
    "#use urlopen function to open the URL which can either be a string or a Request object\n",
    "response = urllib.request.urlopen(url_call)"
   ]
  },
  {
   "cell_type": "code",
   "execution_count": 26,
   "id": "06f30bfe",
   "metadata": {},
   "outputs": [],
   "source": [
    "#creating function for checking HTML status function\n",
    "def check_urlStatus(resp):\n",
    "    if resp.getcode() == 200:\n",
    "        print(\"Status code is 200. Connection successful!\")\n",
    "    else:\n",
    "        print(\"Connection failed.\")"
   ]
  },
  {
   "cell_type": "code",
   "execution_count": 27,
   "id": "ec08e8c3",
   "metadata": {},
   "outputs": [
    {
     "name": "stdout",
     "output_type": "stream",
     "text": [
      "Status code is 200. Connection successful!\n"
     ]
    }
   ],
   "source": [
    "check_urlStatus(response)"
   ]
  },
  {
   "cell_type": "markdown",
   "id": "24818007",
   "metadata": {},
   "source": [
    "Write a utility function called print_json to print the movie data from a JSON file. \n",
    "\n",
    "- Keys: title, year, rated, released, runtime, genre, director, writer, actors, plot, language, country, awards, ratings, metascore, imdbrating, imdbvotes, imdbid"
   ]
  },
  {
   "cell_type": "code",
   "execution_count": 28,
   "id": "ac9cf458",
   "metadata": {},
   "outputs": [],
   "source": [
    "def print_json(data):\n",
    "    #read in list of keys for movie data JSON file\n",
    "    list_keys = ['Title', 'Year', 'Rated', 'Released', 'Runtime', 'Genre', 'Director', 'Writer', 'Actors', 'Plot', 'Language','Country', 'Awards', 'Ratings', 'Metascore', 'imdbRating', 'imdbVotes', 'imdbID']\n",
    "    for key in list_keys:\n",
    "        #if the key is found in the JSON file that is being read in\n",
    "        if key in list(data.keys()):\n",
    "            #print key and its value\n",
    "            print(f\"{key}:{data[key]}\")"
   ]
  },
  {
   "cell_type": "markdown",
   "id": "dce76400",
   "metadata": {},
   "source": [
    "Write an utility function to download a poster of the movie based on the information from the JSON dataset and save it in your local folder. "
   ]
  },
  {
   "cell_type": "code",
   "execution_count": 29,
   "id": "7829ceeb",
   "metadata": {},
   "outputs": [],
   "source": [
    "def download_poster(data):\n",
    "    #read in title from JSON dataset\n",
    "    title = data['Title']\n",
    "    #read in poster if available for this movie title\n",
    "    poster = data['Poster']\n",
    "    #split the poster url by '.' and pick up last string as file extension\n",
    "    #[-1] picks up last string from split\n",
    "    poster_file_ext = poster.split('.')[-1]\n",
    "    #read image file from web --> open url\n",
    "    poster_url = urllib.request.urlopen(poster).read()\n",
    "    \n",
    "    #open a file\n",
    "    poster_dict = os.getcwd()+'\\\\'+'Posters'+'\\\\'\n",
    "    #handling directories\n",
    "    #if directory does not already exist\n",
    "    if not os.path.isdir(poster_dict):\n",
    "        #make the directory\n",
    "        os.mkdir(poster_dict)\n",
    "        \n",
    "    #creating file to hold poster data\n",
    "    #title plus file extension\n",
    "    img_file=poster_dict+str(title)+'.'+poster_file_ext\n",
    "    f=open(img_file,'wb')\n",
    "    #write the data to the image file\n",
    "    f.write(poster_url)\n",
    "    #close the file\n",
    "    f.close()"
   ]
  },
  {
   "cell_type": "markdown",
   "id": "b909ae61",
   "metadata": {},
   "source": [
    "Write a utility function called search_movie to search for a movie by its name, print the downloaded JSON data, and save the movie poster in a local folder."
   ]
  },
  {
   "cell_type": "code",
   "execution_count": 30,
   "id": "9eddcdf1",
   "metadata": {},
   "outputs": [],
   "source": [
    "def search_movie(title):\n",
    "    #using try-except loop\n",
    "    try:\n",
    "        #using urllib.parse.urlencode function to convert a mapping object to a percent-encoded ASCII text string\n",
    "        url = call + urllib.parse.urlencode({'t':str(title)})+apikey\n",
    "        #opening url and parsing JSON string into Python dict\n",
    "        print(f'Retrieving the data of \"{title}\"')\n",
    "        print(url)\n",
    "        #make request to the url\n",
    "        resp = urllib.request.urlopen(url)\n",
    "        data = resp.read()\n",
    "        #parse JSON string into Python dict\n",
    "        #retrieve data from JSON\n",
    "        json_data=json.loads(data)\n",
    "              \n",
    "        #Using key Response to determine if read was successful\n",
    "        #if successful\n",
    "        if json_data['Response']=='True':\n",
    "              print_json(json_data)\n",
    "              #do you want to download the poster?\n",
    "              if json_data['Poster']!='N/A':\n",
    "                download_poster(json_data)\n",
    "        #if not successful\n",
    "        else:\n",
    "              print(\"Read was not successful!\")\n",
    "              #print the JSON key Error\n",
    "              print(json_data['Error'])\n",
    "    \n",
    "    #handling URLError\n",
    "    except urllib.error.URLError as e:\n",
    "        print(f\"ERROR: {e.reason}\")"
   ]
  },
  {
   "cell_type": "markdown",
   "id": "84f02df6",
   "metadata": {},
   "source": [
    "Test the search_movie function by entering Titanic"
   ]
  },
  {
   "cell_type": "code",
   "execution_count": 31,
   "id": "c3b53664",
   "metadata": {},
   "outputs": [
    {
     "name": "stdout",
     "output_type": "stream",
     "text": [
      "Retrieving the data of \"Titanic\"\n",
      "http://www.omdbapi.com/?t=Titanic&apikey=74315a9e\n",
      "Title:Titanic\n",
      "Year:1997\n",
      "Rated:PG-13\n",
      "Released:19 Dec 1997\n",
      "Runtime:194 min\n",
      "Genre:Drama, Romance\n",
      "Director:James Cameron\n",
      "Writer:James Cameron\n",
      "Actors:Leonardo DiCaprio, Kate Winslet, Billy Zane\n",
      "Plot:A seventeen-year-old aristocrat falls in love with a kind but poor artist aboard the luxurious, ill-fated R.M.S. Titanic.\n",
      "Language:English, Swedish, Italian, French\n",
      "Country:United States, Mexico, Australia\n",
      "Awards:Won 11 Oscars. 125 wins & 83 nominations total\n",
      "Ratings:[{'Source': 'Internet Movie Database', 'Value': '7.8/10'}, {'Source': 'Rotten Tomatoes', 'Value': '89%'}, {'Source': 'Metacritic', 'Value': '75/100'}]\n",
      "Metascore:75\n",
      "imdbRating:7.8\n",
      "imdbVotes:1,098,236\n",
      "imdbID:tt0120338\n"
     ]
    }
   ],
   "source": [
    "#testing search_movie with \"Titanic\" as input parameter\n",
    "search_movie(\"Titanic\")"
   ]
  },
  {
   "cell_type": "markdown",
   "id": "d21ca654",
   "metadata": {},
   "source": [
    "Test the search_movie function by entering \"Random_error\""
   ]
  },
  {
   "cell_type": "code",
   "execution_count": 32,
   "id": "bd2a84d1",
   "metadata": {},
   "outputs": [
    {
     "name": "stdout",
     "output_type": "stream",
     "text": [
      "Retrieving the data of \"Random_error\"\n",
      "http://www.omdbapi.com/?t=Random_error&apikey=74315a9e\n",
      "Read was not successful!\n",
      "Movie not found!\n"
     ]
    }
   ],
   "source": [
    "#taking \"Random_error\" as input parameter to search_movie function\n",
    "search_movie(\"Random_error\")"
   ]
  },
  {
   "cell_type": "markdown",
   "id": "b91fdec7",
   "metadata": {},
   "source": [
    "# Connect to the Twitter API and do a simple data pull"
   ]
  },
  {
   "cell_type": "code",
   "execution_count": 33,
   "id": "d2a71af1",
   "metadata": {},
   "outputs": [],
   "source": [
    "#import the Twitter library\n",
    "import twitter\n",
    "\n",
    "#enter credentials for Twitter API account\n",
    "api = twitter.Api(consumer_key='wNeVFamVEYgP2FsHtPS2a2W9Z',\n",
    "  consumer_secret='fzBOVtg4HWnuE1i1J5BfLAb4SLjwx27kTpitrizT5JJ0JsCopI',\n",
    "    access_token_key='1453524458317230082-z4u3QBiPH3IvUugg1glG6toUcxiQz2',\n",
    "    access_token_secret='BPvicbighOXXQtR9xR10hNW26QBunlg1F0IrgfJxHqh9P')"
   ]
  },
  {
   "cell_type": "code",
   "execution_count": 34,
   "id": "78913db3",
   "metadata": {},
   "outputs": [
    {
     "name": "stdout",
     "output_type": "stream",
     "text": [
      "{\"created_at\": \"Thu Oct 28 00:52:07 +0000 2021\", \"default_profile\": true, \"default_profile_image\": true, \"id\": 1453524458317230082, \"id_str\": \"1453524458317230082\", \"name\": \"emphillips\", \"profile_background_color\": \"F5F8FA\", \"profile_image_url\": \"http://abs.twimg.com/sticky/default_profile_images/default_profile_normal.png\", \"profile_image_url_https\": \"https://abs.twimg.com/sticky/default_profile_images/default_profile_normal.png\", \"profile_link_color\": \"1DA1F2\", \"profile_sidebar_border_color\": \"C0DEED\", \"profile_sidebar_fill_color\": \"DDEEF6\", \"profile_text_color\": \"333333\", \"profile_use_background_image\": true, \"screen_name\": \"emphillips20\", \"withheld_in_countries\": []}\n"
     ]
    }
   ],
   "source": [
    "#check if credentials were correct and connection is complete\n",
    "print(api.VerifyCredentials())"
   ]
  },
  {
   "cell_type": "code",
   "execution_count": 35,
   "id": "325cbc75",
   "metadata": {},
   "outputs": [
    {
     "data": {
      "text/plain": [
       "[Status(ID=1459932891765297153, ScreenName=MIT_CSAIL, Created=Sun Nov 14 17:15:00 +0000 2021, Text='9 Distance Measures in data science with algorithms. \\n\\nvia: @gp_pulipaka https://t.co/37izyWPL9b'),\n",
       " Status(ID=1459620758217375745, ScreenName=MicrobiomDigest, Created=Sat Nov 13 20:34:41 +0000 2021, Text='Lots of you offered help in my quest to make science journal editors take a hard stance on data/image manipulations… https://t.co/BaWRgtrXlh'),\n",
       " Status(ID=1459900188978466816, ScreenName=NewDayForNJ, Created=Sun Nov 14 15:05:03 +0000 2021, Text='@GovKathyHochul Even the CDC acknowledges vaccination doesn’t prevent spread or transmission.\\n\\nI’m a biochemist &amp; p… https://t.co/i1uQe4a5eC'),\n",
       " Status(ID=1460036889524666372, ScreenName=fakeTakeDump, Created=Mon Nov 15 00:08:15 +0000 2021, Text='DOG POO VEHICLE STOPPED BREAKING BAD STARTUP APEX LEGENDS NFL FART DATA SCIENCE OF MUSTARD: LIKE PLAYING CASSEROLE… https://t.co/RvnOFZ1bar'),\n",
       " Status(ID=1460036879462457345, ScreenName=SimonSimonj, Created=Mon Nov 15 00:08:12 +0000 2021, Text=\"@RubinReport there's loads of data on ICU's and death rates that prove the vaccines are working. You are not anti V… https://t.co/3EZHb48Vv7\"),\n",
       " Status(ID=1460036851780231168, ScreenName=InitWeebs, Created=Mon Nov 15 00:08:06 +0000 2021, Text='RT @MIT_CSAIL: 9 Distance Measures in data science with algorithms. \\n\\nvia: @gp_pulipaka https://t.co/37izyWPL9b'),\n",
       " Status(ID=1460036788211253250, ScreenName=yunihg, Created=Mon Nov 15 00:07:51 +0000 2021, Text='RT @MIT_CSAIL: 9 Distance Measures in data science with algorithms. \\n\\nvia: @gp_pulipaka https://t.co/37izyWPL9b'),\n",
       " Status(ID=1460036770465263620, ScreenName=integerman, Created=Mon Nov 15 00:07:46 +0000 2021, Text=\"@CHBernasconiC Thanks! That's the pattern the blog took. I'm pretty confident in the topics I'm going to cover and… https://t.co/wRrnvST05C\"),\n",
       " Status(ID=1460036766476419073, ScreenName=CKPYT, Created=Mon Nov 15 00:07:45 +0000 2021, Text='RT @MIT_CSAIL: 9 Distance Measures in data science with algorithms. \\n\\nvia: @gp_pulipaka https://t.co/37izyWPL9b'),\n",
       " Status(ID=1460036755424362496, ScreenName=AixinSG, Created=Mon Nov 15 00:07:43 +0000 2021, Text='RT @MIT_CSAIL: 9 Distance Measures in data science with algorithms. \\n\\nvia: @gp_pulipaka https://t.co/37izyWPL9b')]"
      ]
     },
     "execution_count": 35,
     "metadata": {},
     "output_type": "execute_result"
    }
   ],
   "source": [
    "#search tweets for terms: \"Data Science\"\n",
    "#tweets since 2016-11-21\n",
    "#cap at 10 tweets being returned\n",
    "api.GetSearch(term='Data Science', since=2016-11-21, count=10)"
   ]
  },
  {
   "cell_type": "code",
   "execution_count": 36,
   "id": "7f5e6a26",
   "metadata": {},
   "outputs": [],
   "source": [
    "import requests\n",
    "import json\n",
    "#not best practice but place for specifying bearer token\n",
    "BEARER_TOKEN = \"AAAAAAAAAAAAAAAAAAAAAMOSVQEAAAAA502nQtaKMswjm0Fyiy37SsFXFG8%3DVFSPmEJkaQHnWpxES9diVgSvERfj6X0bhaSfGVhY94Mfj62Tbr\"\n",
    "\n",
    "#define search twitter function\n",
    "#connects to Twitter URL --> adds in search term to query tweets for\n",
    "#raises error if connection is not successful\n",
    "def search_twitter(query, tweet_fields, bearer_token = BEARER_TOKEN):\n",
    "    headers = {\"Authorization\": \"Bearer {}\".format(bearer_token)}\n",
    "\n",
    "    #connect to URL with search term included and pull text, author_id and created_at fields from JSON response\n",
    "    url = \"https://api.twitter.com/2/tweets/search/recent?query={}&{}\".format(\n",
    "        query, tweet_fields\n",
    "    )\n",
    "    #send request to URL\n",
    "    response = requests.request(\"GET\", url, headers=headers)\n",
    "\n",
    "    print(response.status_code)\n",
    "\n",
    "    #check if connection was successful!\n",
    "    if response.status_code != 200:\n",
    "        raise Exception(response.status_code, response.text)\n",
    "    return response.json()"
   ]
  },
  {
   "cell_type": "code",
   "execution_count": 37,
   "id": "20de9898",
   "metadata": {},
   "outputs": [
    {
     "name": "stdout",
     "output_type": "stream",
     "text": [
      "200\n",
      "{\n",
      "    \"data\": [\n",
      "        {\n",
      "            \"author_id\": \"1175836877225508864\",\n",
      "            \"created_at\": \"2021-11-14T15:05:05.000Z\",\n",
      "            \"id\": \"1459900199569182720\",\n",
      "            \"text\": \"Students and faculty from several institutions not shown here are currently fighting for a formal AAS program, which includes Bellevue College, Yale University, and Vanderbilt University. Hoping for their success.\"\n",
      "        },\n",
      "        {\n",
      "            \"author_id\": \"1400417179636584449\",\n",
      "            \"created_at\": \"2021-11-14T13:04:24.000Z\",\n",
      "            \"id\": \"1459869827649216517\",\n",
      "            \"text\": \"Celine Gounder, an epidemiologist and infectious diseases specialist at New York University and Bellevue Hospital, said \\n\\n\\\"Your risk proportional to the level of transmission in the community,\\\"  \\\"And so the best protection is actually from getting the unvaccinated vaccinated\\\"\"\n",
      "        },\n",
      "        {\n",
      "            \"author_id\": \"698025934968885249\",\n",
      "            \"created_at\": \"2021-11-13T19:33:18.000Z\",\n",
      "            \"id\": \"1459605308150407174\",\n",
      "            \"text\": \"Redemption time.\\u23f3\\n\\nWe open up today against Bellevue University at 4:30PM for a chance to compete in the finals at 5:30PM\\n\\nJoin us for the action at https://t.co/yHxtqdBVx4 https://t.co/QWHgqioBFt\"\n",
      "        },\n",
      "        {\n",
      "            \"author_id\": \"2503523034\",\n",
      "            \"created_at\": \"2021-11-13T17:57:10.000Z\",\n",
      "            \"id\": \"1459581115824492553\",\n",
      "            \"text\": \"RT @SSN_Tabor: Big games today for Tabor!!\\nMen\\u2019s soccer vs #2 OKWU KCAC CHAMPIONSHIP GAME 1pm\\nFootball vs St Mary 1pm (Senior Day)\\nWBB vs R\\u2026\"\n",
      "        },\n",
      "        {\n",
      "            \"author_id\": \"3293784289\",\n",
      "            \"created_at\": \"2021-11-13T17:42:31.000Z\",\n",
      "            \"id\": \"1459577427563323395\",\n",
      "            \"text\": \"RT @SSN_Tabor: Big games today for Tabor!!\\nMen\\u2019s soccer vs #2 OKWU KCAC CHAMPIONSHIP GAME 1pm\\nFootball vs St Mary 1pm (Senior Day)\\nWBB vs R\\u2026\"\n",
      "        },\n",
      "        {\n",
      "            \"author_id\": \"4023767837\",\n",
      "            \"created_at\": \"2021-11-13T16:28:12.000Z\",\n",
      "            \"id\": \"1459558729096081410\",\n",
      "            \"text\": \"RT @crishm: Thanks to @DaniDavisTV and @3NewsNowOmaha for helping to share the need and the way to help homeless military veterans in our c\\u2026\"\n",
      "        },\n",
      "        {\n",
      "            \"author_id\": \"1441514640387674121\",\n",
      "            \"created_at\": \"2021-11-13T16:10:46.000Z\",\n",
      "            \"id\": \"1459554339551203328\",\n",
      "            \"text\": \"Big games today for Tabor!!\\nMen\\u2019s soccer vs #2 OKWU KCAC CHAMPIONSHIP GAME 1pm\\nFootball vs St Mary 1pm (Senior Day)\\nWBB vs RV Bellevue 3pm\\nMBB vs Langston University 5pm\"\n",
      "        },\n",
      "        {\n",
      "            \"author_id\": \"1434844593237991429\",\n",
      "            \"created_at\": \"2021-11-12T19:52:43.000Z\",\n",
      "            \"id\": \"1459247807739711489\",\n",
      "            \"text\": \"Our Services https://t.co/NOKj3dr7fM #pay #pay #homework #assignment #write #online #sciences #homework #thesis #dissertation #classes #help #help #ethics #psychology #paper #due #assignment #help #someone #sociology #pay #discussion\"\n",
      "        },\n",
      "        {\n",
      "            \"author_id\": \"23519653\",\n",
      "            \"created_at\": \"2021-11-12T18:44:28.000Z\",\n",
      "            \"id\": \"1459230631158681602\",\n",
      "            \"text\": \"@nigelherbig @BrockRides Yes! Also, both of the candidates we supported won in Lake Washington, Bellevue, Spokane, and Lake Stevens (unlike the city council there). In Clark, Camas went 3/3 and Vancouver and Evergreen were 2/2. In Pierce, Tacoma was 2/2 and the good candidate in University Place won.\"\n",
      "        },\n",
      "        {\n",
      "            \"author_id\": \"1290396851221549056\",\n",
      "            \"created_at\": \"2021-11-12T16:59:59.000Z\",\n",
      "            \"id\": \"1459204337582936076\",\n",
      "            \"text\": \"RT @BethanySwedes: \\ud83c\\udfc0\\ud83c\\udfc0 GAME DAY \\ud83c\\udfc0\\ud83c\\udfc0\\n\\n\\u2b50\\ufe0f Women\\u2019s Basketball \\u2b50\\ufe0f\\n\\ud83c\\udd9a RV Bellevue University \\n\\ud83d\\udd5a 2:00 PM\\n\\ud83d\\udccd Hillsboro, Kan\\n\\ud83c\\udfa5 https://t.co/2WBR06Hhfs\\u2026\"\n",
      "        }\n",
      "    ],\n",
      "    \"meta\": {\n",
      "        \"newest_id\": \"1459900199569182720\",\n",
      "        \"next_token\": \"b26v89c19zqg8o3fpdv9ksnacizn9lmhrp01fnna8evel\",\n",
      "        \"oldest_id\": \"1459204337582936076\",\n",
      "        \"result_count\": 10\n",
      "    }\n",
      "}\n"
     ]
    }
   ],
   "source": [
    "#search term\n",
    "query_bell = \"Bellevue University\"\n",
    "#twitter fields to be returned by api call\n",
    "tweet_fields_bell = \"tweet.fields=text,author_id,created_at\"\n",
    "\n",
    "#twitter api call\n",
    "json_response_bell = search_twitter(query=query_bell, tweet_fields=tweet_fields_bell, bearer_token=BEARER_TOKEN)\n",
    "#pretty printing\n",
    "print(json.dumps(json_response_bell, indent=4, sort_keys=True))"
   ]
  },
  {
   "cell_type": "code",
   "execution_count": 38,
   "id": "29c5165a",
   "metadata": {},
   "outputs": [
    {
     "name": "stdout",
     "output_type": "stream",
     "text": [
      "200\n",
      "{\n",
      "    \"data\": [\n",
      "        {\n",
      "            \"author_id\": \"1322653007171837954\",\n",
      "            \"created_at\": \"2021-11-15T00:08:15.000Z\",\n",
      "            \"id\": \"1460036889524666372\",\n",
      "            \"text\": \"DOG POO VEHICLE STOPPED BREAKING BAD STARTUP APEX LEGENDS NFL FART DATA SCIENCE OF MUSTARD: LIKE PLAYING CASSEROLE FARTS THE PUZZLE: AFFILIATE MARKETING ON A MATTRESS NO AM A CHILLY RETWEET TO WIN PENIS THE DOG POO CASHAPP A MOANING CANOE. RUNE DO THE EXERCISING\"\n",
      "        },\n",
      "        {\n",
      "            \"author_id\": \"454308486\",\n",
      "            \"created_at\": \"2021-11-15T00:08:12.000Z\",\n",
      "            \"id\": \"1460036879462457345\",\n",
      "            \"text\": \"@RubinReport there's loads of data on ICU's and death rates that prove the vaccines are working. You are not anti Vax so much as anti science.......and encouraging others to unnecessarily put their lives at risk. https://t.co/oXnjjmBBcb\"\n",
      "        },\n",
      "        {\n",
      "            \"author_id\": \"1252426295394197506\",\n",
      "            \"created_at\": \"2021-11-15T00:08:06.000Z\",\n",
      "            \"id\": \"1460036851780231168\",\n",
      "            \"text\": \"RT @MIT_CSAIL: 9 Distance Measures in data science with algorithms. \\n\\nvia: @gp_pulipaka https://t.co/37izyWPL9b\"\n",
      "        },\n",
      "        {\n",
      "            \"author_id\": \"1379342782150569991\",\n",
      "            \"created_at\": \"2021-11-15T00:07:51.000Z\",\n",
      "            \"id\": \"1460036788211253250\",\n",
      "            \"text\": \"RT @MIT_CSAIL: 9 Distance Measures in data science with algorithms. \\n\\nvia: @gp_pulipaka https://t.co/37izyWPL9b\"\n",
      "        },\n",
      "        {\n",
      "            \"author_id\": \"38983608\",\n",
      "            \"created_at\": \"2021-11-15T00:07:46.000Z\",\n",
      "            \"id\": \"1460036770465263620\",\n",
      "            \"text\": \"@CHBernasconiC Thanks! That's the pattern the blog took. I'm pretty confident in the topics I'm going to cover and where I'm going; I just hope there's enough people out there looking for help getting started in Data Science and open to cloud computing as part of the solution.\"\n",
      "        },\n",
      "        {\n",
      "            \"author_id\": \"116804437\",\n",
      "            \"created_at\": \"2021-11-15T00:07:45.000Z\",\n",
      "            \"id\": \"1460036766476419073\",\n",
      "            \"text\": \"RT @MIT_CSAIL: 9 Distance Measures in data science with algorithms. \\n\\nvia: @gp_pulipaka https://t.co/37izyWPL9b\"\n",
      "        },\n",
      "        {\n",
      "            \"author_id\": \"327122348\",\n",
      "            \"created_at\": \"2021-11-15T00:07:43.000Z\",\n",
      "            \"id\": \"1460036755424362496\",\n",
      "            \"text\": \"RT @MIT_CSAIL: 9 Distance Measures in data science with algorithms. \\n\\nvia: @gp_pulipaka https://t.co/37izyWPL9b\"\n",
      "        },\n",
      "        {\n",
      "            \"author_id\": \"11070742\",\n",
      "            \"created_at\": \"2021-11-15T00:07:30.000Z\",\n",
      "            \"id\": \"1460036699736707074\",\n",
      "            \"text\": \"RT @integerman: Fun weekend renovation on my YouTube channel completed. Check it out at https://t.co/NWruQKhbC8 if you're interested in Dat\\u2026\"\n",
      "        },\n",
      "        {\n",
      "            \"author_id\": \"881378621390069760\",\n",
      "            \"created_at\": \"2021-11-15T00:07:27.000Z\",\n",
      "            \"id\": \"1460036690169544710\",\n",
      "            \"text\": \"What is science behind this trial ?\\n\\nClinical and experimental data suggest that even small amounts of postoperative pericardial effusion might trigger atrial arrhythmias by inducing local inflammation and oxidative damage \\n#PALACS Trial @AHAScience @AHAMeetings\"\n",
      "        },\n",
      "        {\n",
      "            \"author_id\": \"953781705432735745\",\n",
      "            \"created_at\": \"2021-11-15T00:07:13.000Z\",\n",
      "            \"id\": \"1460036630106886144\",\n",
      "            \"text\": \"RT @MIT_CSAIL: 9 Distance Measures in data science with algorithms. \\n\\nvia: @gp_pulipaka https://t.co/37izyWPL9b\"\n",
      "        }\n",
      "    ],\n",
      "    \"meta\": {\n",
      "        \"newest_id\": \"1460036889524666372\",\n",
      "        \"next_token\": \"b26v89c19zqg8o3fpdy5k5ygawx1cgy13h8vdnkzrjdz1\",\n",
      "        \"oldest_id\": \"1460036630106886144\",\n",
      "        \"result_count\": 10\n",
      "    }\n",
      "}\n"
     ]
    }
   ],
   "source": [
    "#search term\n",
    "query_data = \"Data Science\"\n",
    "#twitter fields to be returned by api call\n",
    "tweet_fields_data = \"tweet.fields=text,author_id,created_at\"\n",
    "\n",
    "#twitter api call\n",
    "json_response_data = search_twitter(query=query_data, tweet_fields=tweet_fields_data, bearer_token=BEARER_TOKEN)\n",
    "#pretty printing\n",
    "print(json.dumps(json_response_data, indent=4, sort_keys=True))"
   ]
  },
  {
   "cell_type": "markdown",
   "id": "4edc29cb",
   "metadata": {},
   "source": [
    "# Using one of the datasets provided in Weeks 7 & 8, or a dataset of your own, choose 3 of the following visualizations to complete. You must submit via PDF along with your code. You are free to use Matplotlib, Seaborn or another package if you prefer.\n",
    "\n",
    "a. Line\n",
    "b. Scatter\n",
    "c. Bar\n",
    "d. Histogram\n",
    "e. Density Plot\n",
    "f. Pie Chart"
   ]
  },
  {
   "cell_type": "code",
   "execution_count": 39,
   "id": "04d3e889",
   "metadata": {},
   "outputs": [],
   "source": [
    "import pandas as pd\n",
    "import matplotlib.pyplot as plt\n",
    "import seaborn as sns\n",
    "import numpy as np"
   ]
  },
  {
   "cell_type": "code",
   "execution_count": 40,
   "id": "53ab1080",
   "metadata": {
    "scrolled": true
   },
   "outputs": [
    {
     "data": {
      "text/html": [
       "<div>\n",
       "<style scoped>\n",
       "    .dataframe tbody tr th:only-of-type {\n",
       "        vertical-align: middle;\n",
       "    }\n",
       "\n",
       "    .dataframe tbody tr th {\n",
       "        vertical-align: top;\n",
       "    }\n",
       "\n",
       "    .dataframe thead th {\n",
       "        text-align: right;\n",
       "    }\n",
       "</style>\n",
       "<table border=\"1\" class=\"dataframe\">\n",
       "  <thead>\n",
       "    <tr style=\"text-align: right;\">\n",
       "      <th></th>\n",
       "      <th>Internal ID</th>\n",
       "      <th>Q1: GOING OUT?</th>\n",
       "      <th>Q2: GENDER</th>\n",
       "      <th>Q3: AGE</th>\n",
       "      <th>Q4: COUNTRY</th>\n",
       "      <th>Q5: STATE, PROVINCE, COUNTY, ETC</th>\n",
       "      <th>Q6 | 100 Grand Bar</th>\n",
       "      <th>Q6 | Anonymous brown globs that come in black and orange wrappers\\t(a.k.a. Mary Janes)</th>\n",
       "      <th>Q6 | Any full-sized candy bar</th>\n",
       "      <th>Q6 | Black Jacks</th>\n",
       "      <th>...</th>\n",
       "      <th>Q8: DESPAIR OTHER</th>\n",
       "      <th>Q9: OTHER COMMENTS</th>\n",
       "      <th>Q10: DRESS</th>\n",
       "      <th>Unnamed: 113</th>\n",
       "      <th>Q11: DAY</th>\n",
       "      <th>Q12: MEDIA [Daily Dish]</th>\n",
       "      <th>Q12: MEDIA [Science]</th>\n",
       "      <th>Q12: MEDIA [ESPN]</th>\n",
       "      <th>Q12: MEDIA [Yahoo]</th>\n",
       "      <th>Click Coordinates (x, y)</th>\n",
       "    </tr>\n",
       "  </thead>\n",
       "  <tbody>\n",
       "    <tr>\n",
       "      <th>0</th>\n",
       "      <td>90258773</td>\n",
       "      <td>NaN</td>\n",
       "      <td>NaN</td>\n",
       "      <td>NaN</td>\n",
       "      <td>NaN</td>\n",
       "      <td>NaN</td>\n",
       "      <td>NaN</td>\n",
       "      <td>NaN</td>\n",
       "      <td>NaN</td>\n",
       "      <td>NaN</td>\n",
       "      <td>...</td>\n",
       "      <td>NaN</td>\n",
       "      <td>NaN</td>\n",
       "      <td>NaN</td>\n",
       "      <td>NaN</td>\n",
       "      <td>NaN</td>\n",
       "      <td>NaN</td>\n",
       "      <td>NaN</td>\n",
       "      <td>NaN</td>\n",
       "      <td>NaN</td>\n",
       "      <td>NaN</td>\n",
       "    </tr>\n",
       "    <tr>\n",
       "      <th>1</th>\n",
       "      <td>90272821</td>\n",
       "      <td>No</td>\n",
       "      <td>Male</td>\n",
       "      <td>44</td>\n",
       "      <td>USA</td>\n",
       "      <td>NM</td>\n",
       "      <td>MEH</td>\n",
       "      <td>DESPAIR</td>\n",
       "      <td>JOY</td>\n",
       "      <td>MEH</td>\n",
       "      <td>...</td>\n",
       "      <td>NaN</td>\n",
       "      <td>Bottom line is Twix is really the only candy w...</td>\n",
       "      <td>White and gold</td>\n",
       "      <td>NaN</td>\n",
       "      <td>Sunday</td>\n",
       "      <td>NaN</td>\n",
       "      <td>1.0</td>\n",
       "      <td>NaN</td>\n",
       "      <td>NaN</td>\n",
       "      <td>(84, 25)</td>\n",
       "    </tr>\n",
       "    <tr>\n",
       "      <th>2</th>\n",
       "      <td>90272829</td>\n",
       "      <td>NaN</td>\n",
       "      <td>Male</td>\n",
       "      <td>49</td>\n",
       "      <td>USA</td>\n",
       "      <td>Virginia</td>\n",
       "      <td>NaN</td>\n",
       "      <td>NaN</td>\n",
       "      <td>NaN</td>\n",
       "      <td>NaN</td>\n",
       "      <td>...</td>\n",
       "      <td>NaN</td>\n",
       "      <td>NaN</td>\n",
       "      <td>NaN</td>\n",
       "      <td>NaN</td>\n",
       "      <td>NaN</td>\n",
       "      <td>NaN</td>\n",
       "      <td>NaN</td>\n",
       "      <td>NaN</td>\n",
       "      <td>NaN</td>\n",
       "      <td>NaN</td>\n",
       "    </tr>\n",
       "    <tr>\n",
       "      <th>3</th>\n",
       "      <td>90272840</td>\n",
       "      <td>No</td>\n",
       "      <td>Male</td>\n",
       "      <td>40</td>\n",
       "      <td>us</td>\n",
       "      <td>or</td>\n",
       "      <td>MEH</td>\n",
       "      <td>DESPAIR</td>\n",
       "      <td>JOY</td>\n",
       "      <td>MEH</td>\n",
       "      <td>...</td>\n",
       "      <td>NaN</td>\n",
       "      <td>Raisins can go to hell</td>\n",
       "      <td>White and gold</td>\n",
       "      <td>NaN</td>\n",
       "      <td>Sunday</td>\n",
       "      <td>NaN</td>\n",
       "      <td>1.0</td>\n",
       "      <td>NaN</td>\n",
       "      <td>NaN</td>\n",
       "      <td>(75, 23)</td>\n",
       "    </tr>\n",
       "    <tr>\n",
       "      <th>4</th>\n",
       "      <td>90272841</td>\n",
       "      <td>No</td>\n",
       "      <td>Male</td>\n",
       "      <td>23</td>\n",
       "      <td>usa</td>\n",
       "      <td>exton pa</td>\n",
       "      <td>JOY</td>\n",
       "      <td>DESPAIR</td>\n",
       "      <td>JOY</td>\n",
       "      <td>DESPAIR</td>\n",
       "      <td>...</td>\n",
       "      <td>NaN</td>\n",
       "      <td>NaN</td>\n",
       "      <td>White and gold</td>\n",
       "      <td>NaN</td>\n",
       "      <td>Friday</td>\n",
       "      <td>NaN</td>\n",
       "      <td>1.0</td>\n",
       "      <td>NaN</td>\n",
       "      <td>NaN</td>\n",
       "      <td>(70, 10)</td>\n",
       "    </tr>\n",
       "  </tbody>\n",
       "</table>\n",
       "<p>5 rows × 120 columns</p>\n",
       "</div>"
      ],
      "text/plain": [
       "   Internal ID Q1: GOING OUT? Q2: GENDER Q3: AGE Q4: COUNTRY  \\\n",
       "0     90258773            NaN        NaN     NaN         NaN   \n",
       "1     90272821             No       Male      44        USA    \n",
       "2     90272829            NaN       Male      49         USA   \n",
       "3     90272840             No       Male      40          us   \n",
       "4     90272841             No       Male      23         usa   \n",
       "\n",
       "  Q5: STATE, PROVINCE, COUNTY, ETC Q6 | 100 Grand Bar  \\\n",
       "0                              NaN                NaN   \n",
       "1                               NM                MEH   \n",
       "2                         Virginia                NaN   \n",
       "3                               or                MEH   \n",
       "4                         exton pa                JOY   \n",
       "\n",
       "  Q6 | Anonymous brown globs that come in black and orange wrappers\\t(a.k.a. Mary Janes)  \\\n",
       "0                                                NaN                                       \n",
       "1                                            DESPAIR                                       \n",
       "2                                                NaN                                       \n",
       "3                                            DESPAIR                                       \n",
       "4                                            DESPAIR                                       \n",
       "\n",
       "  Q6 | Any full-sized candy bar Q6 | Black Jacks  ... Q8: DESPAIR OTHER  \\\n",
       "0                           NaN              NaN  ...               NaN   \n",
       "1                           JOY              MEH  ...               NaN   \n",
       "2                           NaN              NaN  ...               NaN   \n",
       "3                           JOY              MEH  ...               NaN   \n",
       "4                           JOY          DESPAIR  ...               NaN   \n",
       "\n",
       "                                  Q9: OTHER COMMENTS      Q10: DRESS  \\\n",
       "0                                                NaN             NaN   \n",
       "1  Bottom line is Twix is really the only candy w...  White and gold   \n",
       "2                                                NaN             NaN   \n",
       "3                             Raisins can go to hell  White and gold   \n",
       "4                                                NaN  White and gold   \n",
       "\n",
       "  Unnamed: 113 Q11: DAY Q12: MEDIA [Daily Dish] Q12: MEDIA [Science]  \\\n",
       "0          NaN      NaN                     NaN                  NaN   \n",
       "1          NaN   Sunday                     NaN                  1.0   \n",
       "2          NaN      NaN                     NaN                  NaN   \n",
       "3          NaN   Sunday                     NaN                  1.0   \n",
       "4          NaN   Friday                     NaN                  1.0   \n",
       "\n",
       "  Q12: MEDIA [ESPN] Q12: MEDIA [Yahoo] Click Coordinates (x, y)  \n",
       "0               NaN                NaN                      NaN  \n",
       "1               NaN                NaN                 (84, 25)  \n",
       "2               NaN                NaN                      NaN  \n",
       "3               NaN                NaN                 (75, 23)  \n",
       "4               NaN                NaN                 (70, 10)  \n",
       "\n",
       "[5 rows x 120 columns]"
      ]
     },
     "execution_count": 40,
     "metadata": {},
     "output_type": "execute_result"
    }
   ],
   "source": [
    "#reading in data from candy csv\n",
    "data_candy_df = pd.read_csv(\"Week7_8/candyhierarchy2017.csv\")\n",
    "data_candy_df.head()"
   ]
  },
  {
   "cell_type": "code",
   "execution_count": 41,
   "id": "c95f7df3",
   "metadata": {},
   "outputs": [
    {
     "data": {
      "text/plain": [
       "Index(['Internal ID', 'Q1: GOING OUT?', 'Q2: GENDER', 'Q3: AGE', 'Q4: COUNTRY',\n",
       "       'Q5: STATE, PROVINCE, COUNTY, ETC', 'Q6 | 100 Grand Bar',\n",
       "       'Q6 | Anonymous brown globs that come in black and orange wrappers\\t(a.k.a. Mary Janes)',\n",
       "       'Q6 | Any full-sized candy bar', 'Q6 | Black Jacks',\n",
       "       ...\n",
       "       'Q8: DESPAIR OTHER', 'Q9: OTHER COMMENTS', 'Q10: DRESS', 'Unnamed: 113',\n",
       "       'Q11: DAY', 'Q12: MEDIA [Daily Dish]', 'Q12: MEDIA [Science]',\n",
       "       'Q12: MEDIA [ESPN]', 'Q12: MEDIA [Yahoo]', 'Click Coordinates (x, y)'],\n",
       "      dtype='object', length=120)"
      ]
     },
     "execution_count": 41,
     "metadata": {},
     "output_type": "execute_result"
    }
   ],
   "source": [
    "#getting column names\n",
    "data_candy_df.columns"
   ]
  },
  {
   "cell_type": "code",
   "execution_count": 42,
   "id": "1bbee2fc",
   "metadata": {},
   "outputs": [
    {
     "data": {
      "text/plain": [
       "Internal ID                   int64\n",
       "Q1: GOING OUT?               object\n",
       "Q2: GENDER                   object\n",
       "Q3: AGE                      object\n",
       "Q4: COUNTRY                  object\n",
       "                             ...   \n",
       "Q12: MEDIA [Daily Dish]     float64\n",
       "Q12: MEDIA [Science]        float64\n",
       "Q12: MEDIA [ESPN]           float64\n",
       "Q12: MEDIA [Yahoo]          float64\n",
       "Click Coordinates (x, y)     object\n",
       "Length: 120, dtype: object"
      ]
     },
     "execution_count": 42,
     "metadata": {},
     "output_type": "execute_result"
    }
   ],
   "source": [
    "#looking at dataframe field types\n",
    "data_candy_df.dtypes"
   ]
  },
  {
   "cell_type": "markdown",
   "id": "9fb8a4d9",
   "metadata": {},
   "source": [
    "### Histogram of Age of Respondents"
   ]
  },
  {
   "cell_type": "code",
   "execution_count": 43,
   "id": "f9f6fb15",
   "metadata": {},
   "outputs": [],
   "source": [
    "#casting object column to float column\n",
    "data_candy_df['Q3: AGE'] = pd.to_numeric(data_candy_df['Q3: AGE'],errors='coerce')"
   ]
  },
  {
   "cell_type": "code",
   "execution_count": 44,
   "id": "bb968744",
   "metadata": {},
   "outputs": [
    {
     "data": {
      "text/plain": [
       "0        NaN\n",
       "1       44.0\n",
       "2       49.0\n",
       "3       40.0\n",
       "4       23.0\n",
       "        ... \n",
       "2455    24.0\n",
       "2456    33.0\n",
       "2457    26.0\n",
       "2458    58.0\n",
       "2459    66.0\n",
       "Name: Q3: AGE, Length: 2460, dtype: float64"
      ]
     },
     "execution_count": 44,
     "metadata": {},
     "output_type": "execute_result"
    }
   ],
   "source": [
    "#looking at age column after casting to numeric\n",
    "data_candy_df['Q3: AGE']"
   ]
  },
  {
   "cell_type": "code",
   "execution_count": 45,
   "id": "7be4c01a",
   "metadata": {},
   "outputs": [
    {
     "data": {
      "text/plain": [
       "array([   nan,   44. ,   49. ,   40. ,   23. ,   53. ,   33. ,   43. ,\n",
       "         56. ,   64. ,   37. ,   59. ,   48. ,   54. ,   36. ,   45. ,\n",
       "         25. ,   34. ,   35. ,   38. ,   58. ,   50. ,   47. ,   16. ,\n",
       "         52. ,   63. ,   65. ,   41. ,   27. ,   31. ,   61. ,   46. ,\n",
       "         42. ,   62. ,   29. ,   39. ,   32. ,   28. ,   69. ,   67. ,\n",
       "         30. ,   22. ,   26. ,   51. ,   70. ,   24. ,   18. ,   19. ,\n",
       "         57. ,   60. ,   66. ,   12. ,   55. ,   72. ,   21. ,   11. ,\n",
       "          9. ,   68. ,   20. ,    6. ,   10. ,   71. ,   90. ,   13. ,\n",
       "        312. ,   99. ,    7. ,   88. ,   39.4,   74. ,  102. ,   17. ,\n",
       "         15. ,    8. ,   75. ,   14. ,  100. ,   76. , 1000. ,   77. ,\n",
       "         73. ,    1. ,    4. ])"
      ]
     },
     "execution_count": 45,
     "metadata": {},
     "output_type": "execute_result"
    }
   ],
   "source": [
    "data_candy_df['Q3: AGE'].unique()"
   ]
  },
  {
   "cell_type": "code",
   "execution_count": 46,
   "id": "eaa1d305",
   "metadata": {
    "scrolled": true
   },
   "outputs": [
    {
     "name": "stdout",
     "output_type": "stream",
     "text": [
      "1.0         1\n",
      "4.0         1\n",
      "6.0         2\n",
      "7.0         2\n",
      "8.0         2\n",
      "         ... \n",
      "100.0       2\n",
      "102.0       1\n",
      "312.0       1\n",
      "1000.0      1\n",
      "NaN       109\n",
      "Name: Q3: AGE, Length: 83, dtype: int64\n"
     ]
    }
   ],
   "source": [
    "# Calculates the histogram for feature1\n",
    "counts =data_candy_df['Q3: AGE'].value_counts(dropna=False).sort_index()\n",
    "print(counts)"
   ]
  },
  {
   "cell_type": "code",
   "execution_count": 47,
   "id": "a05b4c3b",
   "metadata": {},
   "outputs": [
    {
     "data": {
      "text/plain": [
       "Text(0.5, 1.0, 'Age of Respondents')"
      ]
     },
     "execution_count": 47,
     "metadata": {},
     "output_type": "execute_result"
    },
    {
     "data": {
      "image/png": "[encoded data removed]",
      "text/plain": [
       "<Figure size 432x288 with 1 Axes>"
      ]
     },
     "metadata": {
      "needs_background": "light"
     },
     "output_type": "display_data"
    }
   ],
   "source": [
    "counts.hist(bins=10)\n",
    "plt.title('Age of Respondents')"
   ]
  },
  {
   "cell_type": "markdown",
   "id": "5967a92a",
   "metadata": {},
   "source": [
    "### Pie Chart of Gender of Respondents"
   ]
  },
  {
   "cell_type": "code",
   "execution_count": 48,
   "id": "ae6cc638",
   "metadata": {},
   "outputs": [
    {
     "data": {
      "text/plain": [
       "Text(0.5, 1.0, 'Percentage of Respondents by Gender')"
      ]
     },
     "execution_count": 48,
     "metadata": {},
     "output_type": "execute_result"
    },
    {
     "data": {
      "image/png": "[encoded data removed]",
      "text/plain": [
       "<Figure size 1440x720 with 1 Axes>"
      ]
     },
     "metadata": {},
     "output_type": "display_data"
    }
   ],
   "source": [
    "#pie chart with only Gender grouping\n",
    "#start angle at 90 degrees -- 12 o'clock\n",
    "#No labels -- just using legend\n",
    "\n",
    "#using Internal ID as y since it's the primary key and it holds a value for each survey respondent\n",
    "data_candy_df.groupby(['Q2: GENDER']).count().plot(kind='pie',y='Internal ID',figsize=(20,10), autopct='%1.1f%%',legend=True,startangle=90,labels=None)\n",
    "#title for pie chart\n",
    "plt.title('Percentage of Respondents by Gender')"
   ]
  },
  {
   "cell_type": "markdown",
   "id": "793f9167",
   "metadata": {},
   "source": [
    "### Bar Plot for Overall Survey Responses Towards Full-Sized Candy Bars"
   ]
  },
  {
   "cell_type": "code",
   "execution_count": 49,
   "id": "2ae3cf1e",
   "metadata": {},
   "outputs": [
    {
     "data": {
      "text/plain": [
       "Text(0.5, 1.0, 'Full-Sized Candy Bars Bring Joy!')"
      ]
     },
     "execution_count": 49,
     "metadata": {},
     "output_type": "execute_result"
    },
    {
     "data": {
      "image/png": "[encoded data removed]",
      "text/plain": [
       "<Figure size 432x288 with 1 Axes>"
      ]
     },
     "metadata": {},
     "output_type": "display_data"
    }
   ],
   "source": [
    "sns.set(style=\"darkgrid\")\n",
    "ax = sns.countplot(x='Q6 | Any full-sized candy bar', data=data_candy_df)\n",
    "ax.set_title('Full-Sized Candy Bars Bring Joy!')"
   ]
  },
  {
   "cell_type": "code",
   "execution_count": null,
   "id": "64a40d11",
   "metadata": {},
   "outputs": [],
   "source": []
  }
 ],
 "metadata": {
  "kernelspec": {
   "display_name": "Python 3",
   "language": "python",
   "name": "python3"
  },
  "language_info": {
   "codemirror_mode": {
    "name": "ipython",
    "version": 3
   },
   "file_extension": ".py",
   "mimetype": "text/x-python",
   "name": "python",
   "nbconvert_exporter": "python",
   "pygments_lexer": "ipython3",
   "version": "3.8.8"
  }
 },
 "nbformat": 4,
 "nbformat_minor": 5
}
