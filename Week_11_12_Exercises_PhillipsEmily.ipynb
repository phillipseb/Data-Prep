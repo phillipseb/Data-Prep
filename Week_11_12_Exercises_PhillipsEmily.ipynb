{
 "cells": [
  {
   "cell_type": "markdown",
   "id": "77805999",
   "metadata": {},
   "source": [
    "# Data Wrangling with Python: Activity 11, page 320"
   ]
  },
  {
   "cell_type": "markdown",
   "id": "1cace95e",
   "metadata": {},
   "source": [
    "1. Connect to petsDB and check whether the connection has been successful."
   ]
  },
  {
   "cell_type": "code",
   "execution_count": 78,
   "id": "6be6c297",
   "metadata": {},
   "outputs": [],
   "source": [
    "#SQLite3 library\n",
    "import sqlite3"
   ]
  },
  {
   "cell_type": "code",
   "execution_count": 79,
   "id": "004a2eb1",
   "metadata": {},
   "outputs": [],
   "source": [
    "#testing if connection was successful\n",
    "def check_conn(conn):\n",
    "    try:\n",
    "        conn.cursor()\n",
    "        return True\n",
    "    except Exception as ex:\n",
    "        return False"
   ]
  },
  {
   "cell_type": "code",
   "execution_count": 80,
   "id": "92102482",
   "metadata": {},
   "outputs": [],
   "source": [
    "#connect to petsDB\n",
    "conn = sqlite3.connect(\"petsdb\")"
   ]
  },
  {
   "cell_type": "code",
   "execution_count": 81,
   "id": "7e3dda25",
   "metadata": {},
   "outputs": [
    {
     "data": {
      "text/plain": [
       "True"
      ]
     },
     "execution_count": 81,
     "metadata": {},
     "output_type": "execute_result"
    }
   ],
   "source": [
    "#check connection\n",
    "check_conn(conn)"
   ]
  },
  {
   "cell_type": "markdown",
   "id": "7f1129e8",
   "metadata": {},
   "source": [
    "2. Find the different age groups in the persons database."
   ]
  },
  {
   "cell_type": "code",
   "execution_count": 82,
   "id": "f3d3c699",
   "metadata": {},
   "outputs": [],
   "source": [
    "#initiate cursor for executing statements\n",
    "c = conn.cursor()"
   ]
  },
  {
   "cell_type": "code",
   "execution_count": 83,
   "id": "4b1be51e",
   "metadata": {},
   "outputs": [
    {
     "name": "stdout",
     "output_type": "stream",
     "text": [
      "We have 2 people that are 5 years old\n",
      "We have 1 people that are 6 years old\n",
      "We have 1 people that are 7 years old\n",
      "We have 3 people that are 8 years old\n",
      "We have 1 people that are 9 years old\n",
      "We have 2 people that are 11 years old\n",
      "We have 3 people that are 12 years old\n",
      "We have 1 people that are 13 years old\n",
      "We have 4 people that are 14 years old\n",
      "We have 2 people that are 16 years old\n",
      "We have 2 people that are 17 years old\n",
      "We have 3 people that are 18 years old\n",
      "We have 1 people that are 19 years old\n",
      "We have 3 people that are 22 years old\n",
      "We have 2 people that are 23 years old\n",
      "We have 3 people that are 24 years old\n",
      "We have 2 people that are 25 years old\n",
      "We have 1 people that are 27 years old\n",
      "We have 1 people that are 30 years old\n",
      "We have 3 people that are 31 years old\n",
      "We have 1 people that are 32 years old\n",
      "We have 1 people that are 33 years old\n",
      "We have 2 people that are 34 years old\n",
      "We have 3 people that are 35 years old\n",
      "We have 3 people that are 36 years old\n",
      "We have 1 people that are 37 years old\n",
      "We have 2 people that are 39 years old\n",
      "We have 1 people that are 40 years old\n",
      "We have 1 people that are 42 years old\n",
      "We have 2 people that are 44 years old\n",
      "We have 2 people that are 48 years old\n",
      "We have 1 people that are 49 years old\n",
      "We have 1 people that are 50 years old\n",
      "We have 2 people that are 51 years old\n",
      "We have 2 people that are 52 years old\n",
      "We have 2 people that are 53 years old\n",
      "We have 2 people that are 54 years old\n",
      "We have 1 people that are 58 years old\n",
      "We have 1 people that are 59 years old\n",
      "We have 1 people that are 60 years old\n",
      "We have 1 people that are 61 years old\n",
      "We have 2 people that are 62 years old\n",
      "We have 1 people that are 63 years old\n",
      "We have 2 people that are 65 years old\n",
      "We have 2 people that are 66 years old\n",
      "We have 1 people that are 67 years old\n",
      "We have 3 people that are 68 years old\n",
      "We have 1 people that are 69 years old\n",
      "We have 1 people that are 70 years old\n",
      "We have 4 people that are 71 years old\n",
      "We have 1 people that are 72 years old\n",
      "We have 5 people that are 73 years old\n",
      "We have 3 people that are 74 years old\n"
     ]
    }
   ],
   "source": [
    "#execute SQL query for grouping ages\n",
    "rows = c.execute(\"SELECT COUNT(*),age FROM persons GROUP BY age\")\n",
    "\n",
    "#printing SQL results\n",
    "for ppl,age in rows:\n",
    "    print(\"We have {} people that are {} years old\".format(ppl, age))"
   ]
  },
  {
   "cell_type": "markdown",
   "id": "4d8bfaf5",
   "metadata": {},
   "source": [
    "3. Find the age group that has the maximum number of people."
   ]
  },
  {
   "cell_type": "code",
   "execution_count": 84,
   "id": "a8ccf1ea",
   "metadata": {},
   "outputs": [],
   "source": [
    "#executing SQL query for maximum number of people\n",
    "max_rows = c.execute(\"SELECT MAX(mycount),age FROM (SELECT age, COUNT(*) mycount FROM persons GROUP BY age)\")"
   ]
  },
  {
   "cell_type": "code",
   "execution_count": 85,
   "id": "b0267da7",
   "metadata": {},
   "outputs": [
    {
     "name": "stdout",
     "output_type": "stream",
     "text": [
      "The maximum is at 5 people, who are all 73 years old\n"
     ]
    }
   ],
   "source": [
    "#retrieve age group with maximum number of people\n",
    "for ppl,age in max_rows:\n",
    "    print(\"The maximum is at {} people, who are all {} years old\".format(ppl, age))"
   ]
  },
  {
   "cell_type": "markdown",
   "id": "1e44fe55",
   "metadata": {},
   "source": [
    "4. Find the people who do not have a last name."
   ]
  },
  {
   "cell_type": "code",
   "execution_count": 86,
   "id": "8b65da37",
   "metadata": {},
   "outputs": [],
   "source": [
    "#execute query for getting rows in persons table without last name (null)\n",
    "null_last = c.execute(\"SELECT * FROM persons WHERE last_name IS NULL\")"
   ]
  },
  {
   "cell_type": "code",
   "execution_count": 87,
   "id": "2375874b",
   "metadata": {},
   "outputs": [
    {
     "name": "stdout",
     "output_type": "stream",
     "text": [
      "(1, 'Erica', None, 22, 'south port', 2345678)\n",
      "(2, 'Jordi', None, 73, 'east port', 123456)\n",
      "(3, 'Chasity', None, 70, 'new port', 76856785)\n",
      "(4, 'Gregg', None, 31, 'new port', 76856785)\n",
      "(6, 'Cary', None, 73, 'new port', 76856785)\n",
      "(8, 'Francisca', None, 14, 'west port', 123456)\n",
      "(10, 'Raleigh', None, 68, 'new port', 2345678)\n",
      "(11, 'Maria', None, 42, 'west port', 123456)\n",
      "(12, 'Mariane', None, 62, 'south port', 9756543)\n",
      "(13, 'Mona', None, 44, 'south port', 76856785)\n",
      "(14, 'Kayla', None, 36, 'south port', 2345678)\n",
      "(15, 'Karlie', None, 35, 'west port', 123456)\n",
      "(16, 'Morris', None, 71, 'west port', 76856785)\n",
      "(17, 'Sandy', None, 23, 'east port', 2345678)\n",
      "(18, 'Hector', None, 63, 'east port', 9756543)\n",
      "(19, 'Hiram', None, 52, 'west port', 2345678)\n",
      "(20, 'Tressa', None, 59, 'new port', 123456)\n",
      "(21, 'Berry', None, 22, 'south port', 2345678)\n",
      "(22, 'Pearline', None, 73, 'new port', 9756543)\n",
      "(23, 'Maynard', None, 25, 'east port', 123456)\n",
      "(24, 'Dorian', None, 40, 'east port', 123456)\n",
      "(25, 'Mylene', None, 5, 'east port', 76856785)\n",
      "(26, 'Lafayette', None, 34, 'new port', 2345678)\n",
      "(29, 'Tara', None, 39, 'west port', 123456)\n",
      "(30, 'Destiny', None, 18, 'south port', 2345678)\n",
      "(31, 'Lesly', None, 31, 'west port', 123456)\n",
      "(32, 'Perry', None, 19, 'south port', 76856785)\n",
      "(35, 'Maritza', None, 73, 'east port', 9756543)\n",
      "(37, 'Grant', None, 61, 'east port', 76856785)\n",
      "(39, 'Laury', None, 17, 'east port', 9756543)\n",
      "(40, 'Name', None, 52, 'east port', 9756543)\n",
      "(41, 'Estefania', None, 32, 'new port', 76856785)\n",
      "(42, 'Destiney', None, 65, 'west port', 2345678)\n",
      "(43, 'Jaquelin', None, 73, 'west port', 9756543)\n",
      "(45, 'Alfonzo', None, 16, 'east port', 2345678)\n",
      "(46, 'Lisandro', None, 11, 'new port', 76856785)\n",
      "(49, 'Priscilla', None, 65, 'east port', 76856785)\n",
      "(50, 'Elenora', None, 11, 'new port', 76856785)\n",
      "(52, 'Rudolph', None, 14, 'east port', 76856785)\n",
      "(56, 'Ona', None, 35, 'east port', 9756543)\n",
      "(57, 'Rebeca', None, 50, 'new port', 76856785)\n",
      "(59, 'Sigurd', None, 12, 'west port', 76856785)\n",
      "(63, 'Alice', None, 8, 'west port', 76856785)\n",
      "(64, 'Dane', None, 24, 'west port', 9756543)\n",
      "(65, 'Judge', None, 17, 'south port', 76856785)\n",
      "(66, 'Allene', None, 9, 'new port', 9756543)\n",
      "(67, 'Jalen', None, 33, 'new port', 2345678)\n",
      "(70, 'Myron', None, 36, 'new port', 9756543)\n",
      "(73, 'Travon', None, 16, 'south port', 2345678)\n",
      "(74, 'Shayna', None, 60, 'new port', 2345678)\n",
      "(75, 'Myah', None, 14, 'east port', 2345678)\n",
      "(82, 'Letha', None, 44, 'new port', 9756543)\n",
      "(84, 'Felton', None, 74, 'east port', 2345678)\n",
      "(85, 'London', None, 66, 'east port', 9756543)\n",
      "(86, 'Koby', None, 31, 'west port', 9756543)\n",
      "(87, 'Golden', None, 35, 'east port', 76856785)\n",
      "(89, 'Anissa', None, 8, 'south port', 76856785)\n",
      "(91, 'Sid', None, 22, 'west port', 123456)\n",
      "(96, 'Ernesto', None, 69, 'east port', 9756543)\n",
      "(97, 'Josianne', None, 14, 'west port', 76856785)\n"
     ]
    }
   ],
   "source": [
    "#printing persons results\n",
    "for row in null_last:\n",
    "    print(row)"
   ]
  },
  {
   "cell_type": "code",
   "execution_count": 88,
   "id": "c6e0f559",
   "metadata": {},
   "outputs": [],
   "source": [
    "#executing query for getting count of people with NULL last name\n",
    "null_last_count = c.execute(\"SELECT COUNT(*) FROM persons WHERE last_name IS NULL\")"
   ]
  },
  {
   "cell_type": "code",
   "execution_count": 89,
   "id": "a7f2bb3f",
   "metadata": {},
   "outputs": [
    {
     "name": "stdout",
     "output_type": "stream",
     "text": [
      "Number of people with no last name: 60\n"
     ]
    }
   ],
   "source": [
    "#print count of people with no last name\n",
    "for count in null_last_count:\n",
    "    print(\"Number of people with no last name: {}\".format(count[0]))"
   ]
  },
  {
   "cell_type": "markdown",
   "id": "dad8c87b",
   "metadata": {},
   "source": [
    "5. Find out how many people have more than one pet."
   ]
  },
  {
   "cell_type": "code",
   "execution_count": 90,
   "id": "2ca073c7",
   "metadata": {},
   "outputs": [],
   "source": [
    "#execute query on pets table\n",
    "more_pet = c.execute(\"SELECT COUNT(*) FROM (SELECT COUNT(owner_id) petcount FROM pets GROUP BY owner_id HAVING petcount >1 ) \")"
   ]
  },
  {
   "cell_type": "code",
   "execution_count": 91,
   "id": "85a975a3",
   "metadata": {},
   "outputs": [
    {
     "name": "stdout",
     "output_type": "stream",
     "text": [
      "Number of people with more than one pet: 43\n"
     ]
    }
   ],
   "source": [
    "#retrieve count of people with more than one pet\n",
    "for petcount in more_pet:\n",
    "    print(\"Number of people with more than one pet: {}\".format(petcount[0]))"
   ]
  },
  {
   "cell_type": "markdown",
   "id": "371da8fc",
   "metadata": {},
   "source": [
    "6. Find out how many pets have received treatment."
   ]
  },
  {
   "cell_type": "code",
   "execution_count": 92,
   "id": "6bda6049",
   "metadata": {},
   "outputs": [],
   "source": [
    "#execute SQL to get number of pets who have received treatment\n",
    "treatment = c.execute(\"SELECT COUNT(*) FROM pets WHERE treatment_done = 1\")"
   ]
  },
  {
   "cell_type": "code",
   "execution_count": 93,
   "id": "467ce52d",
   "metadata": {},
   "outputs": [
    {
     "name": "stdout",
     "output_type": "stream",
     "text": [
      "Number of pets that have received treatment: 36\n"
     ]
    }
   ],
   "source": [
    "#retrieve count for pets with treatment\n",
    "for treat_count in treatment:\n",
    "    print(\"Number of pets that have received treatment: {}\".format(treat_count[0]))"
   ]
  },
  {
   "cell_type": "markdown",
   "id": "464d768c",
   "metadata": {},
   "source": [
    "7. Find out how many pets have received treatment and the type of pet is known."
   ]
  },
  {
   "cell_type": "code",
   "execution_count": 94,
   "id": "b4a0b782",
   "metadata": {},
   "outputs": [],
   "source": [
    "#execute SQL with where statements for treatment and pet_type\n",
    "treat_type = c.execute(\"SELECT COUNT(*) FROM pets WHERE treatment_done=1 AND pet_type IS NOT NULL\")"
   ]
  },
  {
   "cell_type": "code",
   "execution_count": 95,
   "id": "11a07382",
   "metadata": {},
   "outputs": [
    {
     "name": "stdout",
     "output_type": "stream",
     "text": [
      "Number of pets that have received treatment and the type of pet is known: 16\n"
     ]
    }
   ],
   "source": [
    "#retrieve count for pets that have received treatment and pet_type is known\n",
    "for tt_count in treat_type:\n",
    "    print(\"Number of pets that have received treatment and the type of pet is known: {}\".format(tt_count[0]))"
   ]
  },
  {
   "cell_type": "code",
   "execution_count": 96,
   "id": "0ba38431",
   "metadata": {},
   "outputs": [],
   "source": [
    "#close the connection for conn\n",
    "conn.close()"
   ]
  },
  {
   "cell_type": "markdown",
   "id": "d510dd37",
   "metadata": {},
   "source": [
    "8. Find out how many pets are from the city called east port."
   ]
  },
  {
   "cell_type": "code",
   "execution_count": 97,
   "id": "8eb6116c",
   "metadata": {},
   "outputs": [
    {
     "name": "stdout",
     "output_type": "stream",
     "text": [
      "Number of pets from the city called east port: 49\n"
     ]
    }
   ],
   "source": [
    "#perform join between persons and pets tables\n",
    "with sqlite3.connect('petsdb') as conn2:\n",
    "    cursor = conn2.cursor()\n",
    "    cursor.execute(\"PRAGMA foreign_keys = 1\")\n",
    "    #sql for join and where condition for persons.city\n",
    "    sql = \"\"\"\n",
    "    SELECT COUNT(*) FROM persons\n",
    "    JOIN pets ON persons.id = pets.owner_id\n",
    "    WHERE persons.city = 'east port'\n",
    "    \"\"\"\n",
    "    #execute query\n",
    "    east_port = cursor.execute(sql)\n",
    "    #print query results\n",
    "    for row in east_port:\n",
    "        print(\"Number of pets from the city called east port: {}\".format(row[0]))"
   ]
  },
  {
   "cell_type": "markdown",
   "id": "d24e2c46",
   "metadata": {},
   "source": [
    "9. Find out how many pets are from the city called east port and who received a treatment."
   ]
  },
  {
   "cell_type": "code",
   "execution_count": 98,
   "id": "94b27dc2",
   "metadata": {},
   "outputs": [
    {
     "name": "stdout",
     "output_type": "stream",
     "text": [
      "Number of pets from the city called east port and that received a treatment: 11\n"
     ]
    }
   ],
   "source": [
    "#perform join between persons and pets tables\n",
    "with sqlite3.connect('petsdb') as conn2:\n",
    "    cursor = conn2.cursor()\n",
    "    cursor.execute(\"PRAGMA foreign_keys = 1\")\n",
    "    #sql for join and where condition for persons.city and pets.treatment_done\n",
    "    sql = \"\"\"\n",
    "    SELECT COUNT(*) FROM persons\n",
    "    JOIN pets ON persons.id = pets.owner_id\n",
    "    WHERE persons.city = 'east port'\n",
    "    AND pets.treatment_done = 1\n",
    "    \"\"\"\n",
    "    #execute query\n",
    "    eastport_treat = cursor.execute(sql)\n",
    "    #print query results\n",
    "    for row in eastport_treat:\n",
    "        print(\"Number of pets from the city called east port and that received a treatment: {}\".format(row[0]))"
   ]
  },
  {
   "cell_type": "code",
   "execution_count": 99,
   "id": "e9e028a9",
   "metadata": {},
   "outputs": [],
   "source": [
    "#closing the connections for conn2\n",
    "conn2.close()"
   ]
  },
  {
   "cell_type": "code",
   "execution_count": null,
   "id": "fc14f08d",
   "metadata": {},
   "outputs": [],
   "source": []
  }
 ],
 "metadata": {
  "kernelspec": {
   "display_name": "Python 3",
   "language": "python",
   "name": "python3"
  },
  "language_info": {
   "codemirror_mode": {
    "name": "ipython",
    "version": 3
   },
   "file_extension": ".py",
   "mimetype": "text/x-python",
   "name": "python",
   "nbconvert_exporter": "python",
   "pygments_lexer": "ipython3",
   "version": "3.8.8"
  }
 },
 "nbformat": 4,
 "nbformat_minor": 5
}
